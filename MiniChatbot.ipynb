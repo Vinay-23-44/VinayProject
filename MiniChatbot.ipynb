{
 "cells": [
  {
   "cell_type": "code",
   "execution_count": 1,
   "id": "c4a2c374",
   "metadata": {},
   "outputs": [
    {
     "name": "stdout",
     "output_type": "stream",
     "text": [
      "Collecting nltk\n",
      "  Downloading nltk-3.8.1-py3-none-any.whl.metadata (2.8 kB)\n",
      "Requirement already satisfied: click in c:\\users\\vinay\\anaconda3\\lib\\site-packages (from nltk) (8.1.7)\n",
      "Requirement already satisfied: joblib in c:\\users\\vinay\\anaconda3\\lib\\site-packages (from nltk) (1.4.2)\n",
      "Collecting regex>=2021.8.3 (from nltk)\n",
      "  Downloading regex-2024.5.15-cp311-cp311-win_amd64.whl.metadata (41 kB)\n",
      "     ---------------------------------------- 0.0/42.0 kB ? eta -:--:--\n",
      "     ------------------ ------------------- 20.5/42.0 kB 640.0 kB/s eta 0:00:01\n",
      "     -------------------------------------- 42.0/42.0 kB 675.2 kB/s eta 0:00:00\n",
      "Requirement already satisfied: tqdm in c:\\users\\vinay\\anaconda3\\lib\\site-packages (from nltk) (4.65.0)\n",
      "Requirement already satisfied: colorama in c:\\users\\vinay\\appdata\\roaming\\python\\python311\\site-packages (from click->nltk) (0.4.6)\n",
      "Downloading nltk-3.8.1-py3-none-any.whl (1.5 MB)\n",
      "   ---------------------------------------- 0.0/1.5 MB ? eta -:--:--\n",
      "   ------- -------------------------------- 0.3/1.5 MB 6.1 MB/s eta 0:00:01\n",
      "   --------- ------------------------------ 0.3/1.5 MB 5.4 MB/s eta 0:00:01\n",
      "   --------- ------------------------------ 0.3/1.5 MB 5.4 MB/s eta 0:00:01\n",
      "   --------- ------------------------------ 0.3/1.5 MB 5.4 MB/s eta 0:00:01\n",
      "   --------- ------------------------------ 0.3/1.5 MB 5.4 MB/s eta 0:00:01\n",
      "   --------- ------------------------------ 0.3/1.5 MB 5.4 MB/s eta 0:00:01\n",
      "   --------- ------------------------------ 0.3/1.5 MB 5.4 MB/s eta 0:00:01\n",
      "   --------- ------------------------------ 0.3/1.5 MB 5.4 MB/s eta 0:00:01\n",
      "   ------------- -------------------------- 0.5/1.5 MB 1.3 MB/s eta 0:00:01\n",
      "   ---------------------- ----------------- 0.8/1.5 MB 2.0 MB/s eta 0:00:01\n",
      "   -------------------------------- ------- 1.2/1.5 MB 2.6 MB/s eta 0:00:01\n",
      "   ---------------------------------------  1.5/1.5 MB 2.8 MB/s eta 0:00:01\n",
      "   ---------------------------------------- 1.5/1.5 MB 2.8 MB/s eta 0:00:00\n",
      "Downloading regex-2024.5.15-cp311-cp311-win_amd64.whl (268 kB)\n",
      "   ---------------------------------------- 0.0/269.0 kB ? eta -:--:--\n",
      "   ---------------------------- ----------- 194.6/269.0 kB 5.9 MB/s eta 0:00:01\n",
      "   ---------------------------------------- 269.0/269.0 kB 4.1 MB/s eta 0:00:00\n",
      "Installing collected packages: regex, nltk\n",
      "Successfully installed nltk-3.8.1 regex-2024.5.15\n",
      "Note: you may need to restart the kernel to use updated packages.\n"
     ]
    }
   ],
   "source": [
    "pip install nltk"
   ]
  },
  {
   "cell_type": "code",
   "execution_count": null,
   "id": "104a8290",
   "metadata": {},
   "outputs": [
    {
     "name": "stdin",
     "output_type": "stream",
     "text": [
      "> need help\n"
     ]
    },
    {
     "name": "stdout",
     "output_type": "stream",
     "text": [
      "how can i help you\n"
     ]
    },
    {
     "name": "stdin",
     "output_type": "stream",
     "text": [
      "> what is chatbot\n"
     ]
    },
    {
     "name": "stdout",
     "output_type": "stream",
     "text": [
      "chatbot is python program to help you\n"
     ]
    }
   ],
   "source": [
    "from nltk.chat.util import Chat,reflections\n",
    "\n",
    "pairs=[\n",
    "    \n",
    "    ['need help',['how can i help you']],\n",
    "    ['what is chatbot',['chatbot is python program to help you']]\n",
    "]\n",
    "\n",
    "chat=Chat(pairs,reflections)\n",
    "chat.converse()\n"
   ]
  },
  {
   "cell_type": "code",
   "execution_count": null,
   "id": "96e137e2",
   "metadata": {},
   "outputs": [],
   "source": []
  }
 ],
 "metadata": {
  "kernelspec": {
   "display_name": "Python 3 (ipykernel)",
   "language": "python",
   "name": "python3"
  },
  "language_info": {
   "codemirror_mode": {
    "name": "ipython",
    "version": 3
   },
   "file_extension": ".py",
   "mimetype": "text/x-python",
   "name": "python",
   "nbconvert_exporter": "python",
   "pygments_lexer": "ipython3",
   "version": "3.11.7"
  }
 },
 "nbformat": 4,
 "nbformat_minor": 5
}
